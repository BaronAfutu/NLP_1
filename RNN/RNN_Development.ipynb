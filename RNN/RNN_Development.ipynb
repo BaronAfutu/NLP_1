{
  "cells": [
    {
      "cell_type": "markdown",
      "metadata": {
        "id": "view-in-github"
      },
      "source": [
        "<a href=\"https://colab.research.google.com/github/lmoroney/dlaicourse/blob/master/TensorFlow%20In%20Practice/Course%203%20-%20NLP/Course%203%20-%20Week%202%20-%20Lesson%202.ipynb\" target=\"_parent\"><img src=\"https://colab.research.google.com/assets/colab-badge.svg\" alt=\"Open In Colab\"/></a>"
      ]
    },
    {
      "cell_type": "code",
      "execution_count": 5,
      "metadata": {
        "id": "XYYDvoskkE61"
      },
      "outputs": [],
      "source": [
        "import json\n",
        "import tensorflow as tf\n",
        "\n",
        "from tensorflow.keras.preprocessing.text import Tokenizer\n",
        "from tensorflow.keras.preprocessing.sequence import pad_sequences\n",
        "import pathlib"
      ]
    },
    {
      "cell_type": "code",
      "execution_count": 6,
      "metadata": {
        "id": "0eJSTTYnkJQd"
      },
      "outputs": [],
      "source": [
        "vocab_size = 10000\n",
        "max_length = 100\n",
        "trunc_type='post'\n",
        "padding_type='post'\n",
        "oov_tok = \"<OOV>\"\n",
        "training_size = 20000\n"
      ]
    },
    {
      "cell_type": "code",
      "execution_count": 7,
      "metadata": {
        "id": "BQVuQrZNkPn9",
        "colab": {
          "base_uri": "https://localhost:8080/"
        },
        "outputId": "336023ee-2789-4a80-eb44-d86002123be3"
      },
      "outputs": [
        {
          "output_type": "stream",
          "name": "stdout",
          "text": [
            "Downloading data from https://storage.googleapis.com/laurencemoroney-blog.appspot.com/sarcasm.json\n",
            "5644288/5643545 [==============================] - 0s 0us/step\n",
            "5652480/5643545 [==============================] - 0s 0us/step\n",
            "/tmp/.keras/datasets/sarcasm.txt\n"
          ]
        }
      ],
      "source": [
        "try:\n",
        "  dataset_file_path = 'sarcasm.json'\n",
        "  with open(dataset_file_path, 'r') as f:\n",
        "    datastore = json.load(f)\n",
        "except Exception:\n",
        "  cache_dir = './tmp'\n",
        "  dataset_file_name = 'sarcasm.txt'\n",
        "  dataset_file_origin = 'https://storage.googleapis.com/laurencemoroney-blog.appspot.com/sarcasm.json'\n",
        "\n",
        "  dataset_file_path = tf.keras.utils.get_file(\n",
        "      fname=dataset_file_name,\n",
        "      origin=dataset_file_origin,\n",
        "      cache_dir=pathlib.Path(cache_dir).absolute()\n",
        "  )\n",
        "\n",
        "print(dataset_file_path)"
      ]
    },
    {
      "cell_type": "code",
      "execution_count": 8,
      "metadata": {
        "id": "oaLaaqhNkUPd"
      },
      "outputs": [],
      "source": [
        "with open(dataset_file_path, 'r') as f:\n",
        "    datastore = json.load(f)\n",
        "\n",
        "sentences = []\n",
        "labels = []\n",
        "\n",
        "for item in datastore:\n",
        "    sentences.append(item['headline'])\n",
        "    labels.append(item['is_sarcastic'])"
      ]
    },
    {
      "cell_type": "code",
      "execution_count": 9,
      "metadata": {
        "id": "S1sD-7v0kYWk"
      },
      "outputs": [],
      "source": [
        "training_sentences = sentences[0:training_size]\n",
        "testing_sentences = sentences[training_size:]\n",
        "training_labels = labels[0:training_size]\n",
        "testing_labels = labels[training_size:]"
      ]
    },
    {
      "cell_type": "code",
      "execution_count": 10,
      "metadata": {
        "id": "3u8UB0MCkZ5N"
      },
      "outputs": [],
      "source": [
        "tokenizer = Tokenizer(num_words=vocab_size, oov_token=oov_tok)\n",
        "tokenizer.fit_on_texts(training_sentences)\n",
        "\n",
        "word_index = tokenizer.word_index\n",
        "\n",
        "training_sequences = tokenizer.texts_to_sequences(training_sentences)\n",
        "training_padded = pad_sequences(training_sequences, maxlen=max_length, padding=padding_type, truncating=trunc_type)\n",
        "\n",
        "testing_sequences = tokenizer.texts_to_sequences(testing_sentences)\n",
        "testing_padded = pad_sequences(testing_sequences, maxlen=max_length, padding=padding_type, truncating=trunc_type)"
      ]
    },
    {
      "cell_type": "code",
      "execution_count": 11,
      "metadata": {
        "id": "GrAlWBKf99Ya"
      },
      "outputs": [],
      "source": [
        "# Need this block to get it to work with TensorFlow 2.x\n",
        "import numpy as np\n",
        "training_padded = np.array(training_padded)\n",
        "training_labels = np.array(training_labels)\n",
        "testing_padded = np.array(testing_padded)\n",
        "testing_labels = np.array(testing_labels)"
      ]
    },
    {
      "cell_type": "markdown",
      "source": [
        "# RUN ONLY 1 OF THE NEXT 2 CELLS"
      ],
      "metadata": {
        "id": "_nIHc7YQecmi"
      }
    },
    {
      "cell_type": "code",
      "source": [
        "embedding_dim = 64\n",
        "model = tf.keras.Sequential([\n",
        "    tf.keras.layers.Embedding(vocab_size, embedding_dim, input_length=max_length),\n",
        "    tf.keras.layers.LSTM(embedding_dim), \n",
        "    tf.keras.layers.Dense(24, activation='relu'),\n",
        "    tf.keras.layers.Dense(1, activation='sigmoid')\n",
        "])\n",
        "model.compile(loss='binary_crossentropy',optimizer='adam',metrics=['accuracy'])"
      ],
      "metadata": {
        "id": "ZyzZjgrDfqBi"
      },
      "execution_count": 16,
      "outputs": []
    },
    {
      "cell_type": "code",
      "execution_count": 23,
      "metadata": {
        "id": "FufaT4vlkiDE"
      },
      "outputs": [],
      "source": [
        "embedding_dim = 64 #most importantly the number of output nodes for LSTM\n",
        "model = tf.keras.Sequential([\n",
        "    tf.keras.layers.Embedding(vocab_size, embedding_dim, input_length=max_length),\n",
        "    tf.keras.layers.Bidirectional(tf.keras.layers.LSTM(embedding_dim)),\n",
        "    tf.keras.layers.Dense(24, activation='relu'),\n",
        "    tf.keras.layers.Dense(1, activation='sigmoid')\n",
        "])\n",
        "model.compile(loss='binary_crossentropy',optimizer='adam',metrics=['accuracy'])"
      ]
    },
    {
      "cell_type": "markdown",
      "source": [
        "# RUN ONLY 1 OF THE 2 CELLS ABOVE AT A TIME\n",
        "\n",
        "Other parameters to work with for LSTM are available [here](https://www.tensorflow.org/api_docs/python/tf/keras/layers/LSTM)."
      ],
      "metadata": {
        "id": "lR2gPzSFhcc3"
      }
    },
    {
      "cell_type": "code",
      "execution_count": 17,
      "metadata": {
        "id": "XfDt1hmYkiys",
        "colab": {
          "base_uri": "https://localhost:8080/"
        },
        "outputId": "9a3c81ef-3f12-410f-bbcd-e7dcf45b1c2e"
      },
      "outputs": [
        {
          "output_type": "stream",
          "name": "stdout",
          "text": [
            "Model: \"sequential_1\"\n",
            "_________________________________________________________________\n",
            " Layer (type)                Output Shape              Param #   \n",
            "=================================================================\n",
            " embedding_2 (Embedding)     (None, 100, 64)           640000    \n",
            "                                                                 \n",
            " lstm_1 (LSTM)               (None, 64)                33024     \n",
            "                                                                 \n",
            " dense_2 (Dense)             (None, 24)                1560      \n",
            "                                                                 \n",
            " dense_3 (Dense)             (None, 1)                 25        \n",
            "                                                                 \n",
            "=================================================================\n",
            "Total params: 674,609\n",
            "Trainable params: 674,609\n",
            "Non-trainable params: 0\n",
            "_________________________________________________________________\n"
          ]
        }
      ],
      "source": [
        "model.summary()\n"
      ]
    },
    {
      "cell_type": "code",
      "execution_count": 24,
      "metadata": {
        "id": "2DTKQFf1kkyc",
        "colab": {
          "base_uri": "https://localhost:8080/"
        },
        "outputId": "dc33ff55-c1f8-4f7b-cc30-35ac6f4adec1"
      },
      "outputs": [
        {
          "output_type": "stream",
          "name": "stdout",
          "text": [
            "Epoch 1/10\n",
            "625/625 - 11s - loss: 0.4157 - accuracy: 0.8013 - val_loss: 0.3374 - val_accuracy: 0.8532 - 11s/epoch - 17ms/step\n",
            "Epoch 2/10\n",
            "625/625 - 8s - loss: 0.2121 - accuracy: 0.9154 - val_loss: 0.3534 - val_accuracy: 0.8532 - 8s/epoch - 12ms/step\n",
            "Epoch 3/10\n",
            "625/625 - 7s - loss: 0.1296 - accuracy: 0.9505 - val_loss: 0.4069 - val_accuracy: 0.8520 - 7s/epoch - 12ms/step\n",
            "Epoch 4/10\n",
            "625/625 - 7s - loss: 0.0750 - accuracy: 0.9750 - val_loss: 0.4844 - val_accuracy: 0.8442 - 7s/epoch - 12ms/step\n",
            "Epoch 5/10\n",
            "625/625 - 8s - loss: 0.0476 - accuracy: 0.9846 - val_loss: 0.5769 - val_accuracy: 0.8405 - 8s/epoch - 12ms/step\n",
            "Epoch 6/10\n",
            "625/625 - 7s - loss: 0.0312 - accuracy: 0.9908 - val_loss: 0.6796 - val_accuracy: 0.8356 - 7s/epoch - 12ms/step\n",
            "Epoch 7/10\n",
            "625/625 - 7s - loss: 0.0228 - accuracy: 0.9932 - val_loss: 0.7650 - val_accuracy: 0.8360 - 7s/epoch - 12ms/step\n",
            "Epoch 8/10\n",
            "625/625 - 8s - loss: 0.0169 - accuracy: 0.9949 - val_loss: 0.9212 - val_accuracy: 0.8319 - 8s/epoch - 12ms/step\n",
            "Epoch 9/10\n",
            "625/625 - 9s - loss: 0.0131 - accuracy: 0.9955 - val_loss: 0.8804 - val_accuracy: 0.8338 - 9s/epoch - 14ms/step\n",
            "Epoch 10/10\n",
            "625/625 - 8s - loss: 0.0083 - accuracy: 0.9977 - val_loss: 1.0504 - val_accuracy: 0.8334 - 8s/epoch - 14ms/step\n"
          ]
        }
      ],
      "source": [
        "num_epochs = 10\n",
        "history = model.fit(training_padded, training_labels, epochs=num_epochs, validation_data=(testing_padded, testing_labels), verbose=2)"
      ]
    },
    {
      "cell_type": "code",
      "execution_count": 26,
      "metadata": {
        "id": "7SBdAZAenvzL",
        "colab": {
          "base_uri": "https://localhost:8080/"
        },
        "outputId": "7cc03364-459b-41d2-9887-4dfac2febc70"
      },
      "outputs": [
        {
          "output_type": "stream",
          "name": "stdout",
          "text": [
            "former <OOV> store clerk sues over secret 'black <OOV> for minority shoppers ? ? ? ? ? ? ? ? ? ? ? ? ? ? ? ? ? ? ? ? ? ? ? ? ? ? ? ? ? ? ? ? ? ? ? ? ? ? ? ? ? ? ? ? ? ? ? ? ? ? ? ? ? ? ? ? ? ? ? ? ? ? ? ? ? ? ? ? ? ? ? ? ? ? ? ? ? ? ? ? ? ? ? ? ? ? ? ?\n",
            "mom starting to fear son's web series closest thing she will have to grandchild\n",
            "1\n"
          ]
        }
      ],
      "source": [
        "reverse_word_index = dict([(value, key) for (key, value) in word_index.items()])\n",
        "\n",
        "def decode_sentence(text):\n",
        "    return ' '.join([reverse_word_index.get(i, '?') for i in text])\n",
        "\n",
        "print(decode_sentence(training_padded[0]))\n",
        "print(training_sentences[2])\n",
        "print(labels[2])"
      ]
    },
    {
      "cell_type": "code",
      "execution_count": 27,
      "metadata": {
        "id": "c9MqihtEkzQ9",
        "colab": {
          "base_uri": "https://localhost:8080/"
        },
        "outputId": "adaa9732-a69f-4e0d-f087-9c8fcd3721b9"
      },
      "outputs": [
        {
          "output_type": "stream",
          "name": "stdout",
          "text": [
            "(10000, 64)\n"
          ]
        }
      ],
      "source": [
        "e = model.layers[0]\n",
        "weights = e.get_weights()[0]\n",
        "print(weights.shape) # shape: (vocab_size, embedding_dim)\n"
      ]
    },
    {
      "cell_type": "code",
      "execution_count": 28,
      "metadata": {
        "id": "cG8-ArY-qDcz",
        "colab": {
          "base_uri": "https://localhost:8080/"
        },
        "outputId": "705632d5-cc3e-443d-fe8a-cea8f404b2ae"
      },
      "outputs": [
        {
          "output_type": "stream",
          "name": "stdout",
          "text": [
            "[[9.7063355e-02]\n",
            " [9.9993455e-01]\n",
            " [3.5396765e-06]\n",
            " [7.4840283e-01]]\n"
          ]
        }
      ],
      "source": [
        "sentence = [\n",
        "            \"you look beautiful\",\n",
        "            \"you look extremely beautiful\",\n",
        "            \"I couldn't like your dress any better\",\n",
        "            \"your dress look good alright\"\n",
        "]\n",
        "sequences = tokenizer.texts_to_sequences(sentence)\n",
        "padded = pad_sequences(sequences, maxlen=max_length, padding=padding_type, truncating=trunc_type)\n",
        "print(model.predict(padded))"
      ]
    }
  ],
  "metadata": {
    "accelerator": "GPU",
    "colab": {
      "collapsed_sections": [],
      "name": "RNN Development",
      "provenance": []
    },
    "kernelspec": {
      "display_name": "Python 3",
      "name": "python3"
    }
  },
  "nbformat": 4,
  "nbformat_minor": 0
}